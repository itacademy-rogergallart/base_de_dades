{
  "nbformat": 4,
  "nbformat_minor": 0,
  "metadata": {
    "colab": {
      "name": "S17_T02_Base_de_dades_MySQL.ipynb",
      "provenance": [],
      "collapsed_sections": [
        "ycFJlZWMx2R8",
        "tCmbJummx9oH"
      ],
      "authorship_tag": "ABX9TyPmRHeCrLOn9fvr3mUDK+CG",
      "include_colab_link": true
    },
    "kernelspec": {
      "name": "python3",
      "display_name": "Python 3"
    },
    "language_info": {
      "name": "python"
    }
  },
  "cells": [
    {
      "cell_type": "markdown",
      "metadata": {
        "id": "view-in-github",
        "colab_type": "text"
      },
      "source": [
        "<a href=\"https://colab.research.google.com/github/itacademy-rogergallart/base_de_dades/blob/main/S17_T02_Base_de_dades_MySQL.ipynb\" target=\"_parent\"><img src=\"https://colab.research.google.com/assets/colab-badge.svg\" alt=\"Open In Colab\"/></a>"
      ]
    },
    {
      "cell_type": "markdown",
      "metadata": {
        "id": "GKMTPbvc1v8Y"
      },
      "source": [
        "# S17 T02 : Base de dades MySQL\n"
      ]
    },
    {
      "cell_type": "markdown",
      "metadata": {
        "id": "mBmzE7jCxvRj"
      },
      "source": [
        "## Exercici 1"
      ]
    },
    {
      "cell_type": "markdown",
      "metadata": {
        "id": "kIlQIiA0x0wu"
      },
      "source": [
        "Crea una base de dades relacionals senzilla utilitzant MySQL(https://www.mysql.com/) i connecta-la a Python"
      ]
    },
    {
      "cell_type": "markdown",
      "metadata": {
        "id": "mbGFYaCkyFPl"
      },
      "source": [
        "Nota: Aquest notebook està pensat per ser executat a Google Colab. Per això inclou la instal·lació de MySQL a la màquina remota, etc."
      ]
    },
    {
      "cell_type": "markdown",
      "metadata": {
        "id": "hn-BO7hRt2DB"
      },
      "source": [
        "### Setup"
      ]
    },
    {
      "cell_type": "code",
      "metadata": {
        "id": "bMQ6s5umvcN2"
      },
      "source": [
        "# Update apt\n",
        "!apt-get update &> /dev/null\n",
        "\n",
        "# Install MySQL server\n",
        "!apt-get install mysql-server &> /dev/null"
      ],
      "execution_count": 1,
      "outputs": []
    },
    {
      "cell_type": "code",
      "metadata": {
        "colab": {
          "base_uri": "https://localhost:8080/"
        },
        "id": "dTCpJGnEuzSM",
        "outputId": "f0672243-32cd-47d3-bf8f-7c71fc89085e"
      },
      "source": [
        "# Run MySQL server\n",
        "!service mysql start"
      ],
      "execution_count": 2,
      "outputs": [
        {
          "output_type": "stream",
          "name": "stdout",
          "text": [
            " * Starting MySQL database server mysqld\n",
            "No directory, logging in with HOME=/\n",
            "   ...done.\n"
          ]
        }
      ]
    },
    {
      "cell_type": "code",
      "metadata": {
        "id": "kD4NvoXLir7U"
      },
      "source": [
        "# We create a new user with full privileges\n",
        "!mysql -e \"CREATE USER 'roger'@'localhost' IDENTIFIED BY '1234';\"\n",
        "!mysql -e \"GRANT ALL PRIVILEGES ON *.* TO 'roger'@'localhost';\" "
      ],
      "execution_count": null,
      "outputs": []
    },
    {
      "cell_type": "code",
      "metadata": {
        "id": "hzFZpwEM0QUb"
      },
      "source": [
        "# Install MySQL-connector package\n",
        "!pip install mysql-connector-python > /dev/null"
      ],
      "execution_count": 3,
      "outputs": []
    },
    {
      "cell_type": "code",
      "metadata": {
        "id": "T2rFqYyw0gA_"
      },
      "source": [
        "# Imports\n",
        "import mysql.connector as mysql\n",
        "import pandas as pd\n",
        "import numpy as np\n",
        "import matplotlib.pyplot as plt\n",
        "import seaborn as sns\n",
        "\n",
        "%matplotlib inline"
      ],
      "execution_count": 4,
      "outputs": []
    },
    {
      "cell_type": "markdown",
      "metadata": {
        "id": "SQ-wN08ht9Ts"
      },
      "source": [
        "### Creació de base de dades *covid_vaccinations*"
      ]
    },
    {
      "cell_type": "code",
      "metadata": {
        "id": "kTrDfRCv1RrH"
      },
      "source": [
        "# Dictionary containing the connection parameters\n",
        "config = {\n",
        "    'host' : '127.0.0.1',      # IP address of the MySQL database server\n",
        "    'user' : 'roger',           # User name of the database server\n",
        "    'password' : '1234',           # Password for the database user\n",
        "    'autocommit' : True\n",
        "}"
      ],
      "execution_count": 11,
      "outputs": []
    },
    {
      "cell_type": "code",
      "metadata": {
        "id": "2LMjP-4Y9vxv"
      },
      "source": [
        "# Create the new database: covid_vaccinations\n",
        "\n",
        "create_db_query = \"CREATE DATABASE IF NOT EXISTS covid_vaccinations\"\n",
        "\n",
        "try:\n",
        "  with mysql.connect(**config) as connection:\n",
        "    with connection.cursor() as c:\n",
        "      c.execute(create_db_query)\n",
        "except mysql.Error as e:\n",
        "    print(e)"
      ],
      "execution_count": 12,
      "outputs": []
    },
    {
      "cell_type": "code",
      "metadata": {
        "id": "Ljy8M_wpqCla"
      },
      "source": [
        "# Add the database name to the dictionary containing the connection parameters\n",
        "\n",
        "config['database']='covid_vaccinations'"
      ],
      "execution_count": 13,
      "outputs": []
    },
    {
      "cell_type": "markdown",
      "metadata": {
        "id": "1tqek7wnuI_b"
      },
      "source": [
        "### Creació de taula *vaccinations*\n",
        "Conté informació setmanal sobre les vacunes contra la covid-19 comprades pels paisos Europeus, administrades en primera o segona dosi, per rangs d'edat, etc.\n",
        "\n",
        "Més informació: https://www.ecdc.europa.eu/en/publications-data/data-covid-19-vaccination-eu-eea"
      ]
    },
    {
      "cell_type": "code",
      "metadata": {
        "id": "lxEVC5lH5P7n",
        "colab": {
          "base_uri": "https://localhost:8080/"
        },
        "outputId": "e789de38-5140-4250-dfa6-ed8d8217b109"
      },
      "source": [
        "# Download CSV dataset file from my personal github\n",
        "# Data source: https://www.ecdc.europa.eu/en/publications-data/data-covid-19-vaccination-eu-eea\n",
        "# This CSV contains information about the covid-19 vaccines used weekly in European countries \n",
        "\n",
        "# Note: the file is copied to the /var/lib/mysql-files/ folder in order to be\n",
        "# able to upload it later into the MySQL database without security issues\n",
        "\n",
        "!wget -P /var/lib/mysql-files/ https://raw.githubusercontent.com/itacademy-rogergallart/base_de_dades/main/data.csv"
      ],
      "execution_count": 15,
      "outputs": [
        {
          "output_type": "stream",
          "name": "stdout",
          "text": [
            "--2021-10-06 12:21:21--  https://raw.githubusercontent.com/itacademy-rogergallart/base_de_dades/main/data.csv\n",
            "Resolving raw.githubusercontent.com (raw.githubusercontent.com)... 185.199.108.133, 185.199.109.133, 185.199.110.133, ...\n",
            "Connecting to raw.githubusercontent.com (raw.githubusercontent.com)|185.199.108.133|:443... connected.\n",
            "HTTP request sent, awaiting response... 200 OK\n",
            "Length: 4248528 (4.1M) [text/plain]\n",
            "Saving to: ‘/var/lib/mysql-files/data.csv’\n",
            "\n",
            "data.csv            100%[===================>]   4.05M  --.-KB/s    in 0.07s   \n",
            "\n",
            "2021-10-06 12:21:21 (54.3 MB/s) - ‘/var/lib/mysql-files/data.csv’ saved [4248528/4248528]\n",
            "\n"
          ]
        }
      ]
    },
    {
      "cell_type": "code",
      "metadata": {
        "id": "XKRigeWUp_e7"
      },
      "source": [
        "# Create main table (vaccinations) and load data from the CSV file\n",
        "\n",
        "create_table_query = \"\"\"\n",
        "CREATE TABLE vaccinations (\n",
        "    id INT NOT NULL AUTO_INCREMENT,\n",
        "    year_week_ISO CHAR(8) NULL,\n",
        "    first_dose INT NULL,\n",
        "    first_dose_refused INT NULL, \n",
        "    second_dose INT NULL,\n",
        "    unknown_dose INT NULL,\n",
        "    number_doses_received INT NULL,\n",
        "    region VARCHAR(8) NULL,\n",
        "    population INT NULL,\n",
        "    reporting_country CHAR(2) NULL,\n",
        "    target_group ENUM('ALL', 'Age<18', 'HCW', 'LTCF', 'Age0_4', 'Age5_9', 'Age10_14', 'Age15_17', 'Age18_24',\n",
        "    'Age25_49', 'Age50_59', 'Age60_69', 'Age70_79', 'Age80+', 'AgeUnk', '1_Age<60', '1_Age60+'),\n",
        "    vaccine_id VARCHAR(8) NULL,\n",
        "    denominator INT NULL,\n",
        "    PRIMARY KEY (id)\n",
        ");\n",
        "\"\"\"\n",
        "\n",
        "load_data_query = \"\"\"\n",
        "LOAD DATA INFILE '/var/lib/mysql-files/data.csv' \n",
        "INTO TABLE vaccinations\n",
        "FIELDS TERMINATED BY ',' \n",
        "LINES TERMINATED BY '\\r\\n'\n",
        "IGNORE 1 ROWS\n",
        "(year_week_ISO, @first_dose, @first_dose_refused, @second_dose, @unknown_dose, @number_doses_received, region, population, reporting_country, target_group, vaccine_id, @denominator)\n",
        "SET first_dose = NULLIF(@first_dose,''),\n",
        "    first_dose_refused = NULLIF(@first_dose_refused,''),\n",
        "    second_dose = NULLIF(@second_dose,''),\n",
        "    unknown_dose = NULLIF(@unknown_dose,''),\n",
        "    number_doses_received = NULLIF(@number_doses_received,''),\n",
        "    denominator = NULLIF(@denominator,'');\n",
        "\"\"\"\n",
        "# Comments:\n",
        "# - \\r\\n intead of \\n used to deal with some rows of CSV where the last field (column) is empty\n",
        "# - NULLIF(...) statements used to import empty fields in the CSV as NULL fields in the table\n",
        "\n",
        "try:\n",
        "  \n",
        "  with mysql.connect(**config) as connection:\n",
        "    with connection.cursor() as c:\n",
        "      c.execute(\"DROP TABLE IF EXISTS vaccinations\")  # If the table already exists, we delete it\n",
        "      c.execute(create_table_query)\n",
        "      c.execute(load_data_query)\n",
        "\n",
        "except mysql.Error as e:\n",
        "    print(e)"
      ],
      "execution_count": 16,
      "outputs": []
    },
    {
      "cell_type": "code",
      "metadata": {
        "colab": {
          "base_uri": "https://localhost:8080/"
        },
        "id": "ZO6BIQAHhvvf",
        "outputId": "7be34622-5501-45d1-c72a-c9f9578b5176"
      },
      "source": [
        "# Check that data has correctly been loaded into the \"vaccinations\" table by printing\n",
        "# the first 5 rows\n",
        "\n",
        "with mysql.connect(**config) as connection:\n",
        "\n",
        "  with connection.cursor() as c:  \n",
        "\n",
        "    c.execute('SELECT * FROM vaccinations LIMIT 10')\n",
        "    data = c.fetchall()\n",
        "    print(\"Column names: \", c.column_names, \"\\n\")\n",
        "    print(\"First 5 rows:\")\n",
        "    for row in data: print(row)\n"
      ],
      "execution_count": 17,
      "outputs": [
        {
          "output_type": "stream",
          "name": "stdout",
          "text": [
            "Column names:  ('id', 'year_week_ISO', 'first_dose', 'first_dose_refused', 'second_dose', 'unknown_dose', 'number_doses_received', 'region', 'population', 'reporting_country', 'target_group', 'vaccine_id', 'denominator') \n",
            "\n",
            "First 5 rows:\n",
            "(1, '2020-W53', 2848, None, 0, 0, 61425, 'AT', 8901064, 'AT', '1_Age60+', 'COM', 2259262)\n",
            "(2, '2020-W53', 0, None, 0, 0, 0, 'AT', 8901064, 'AT', '1_Age60+', 'UNK', 2259262)\n",
            "(3, '2020-W53', 0, None, 0, 0, 0, 'AT', 8901064, 'AT', '1_Age60+', 'JANSS', 2259262)\n",
            "(4, '2020-W53', 0, None, 0, 0, 0, 'AT', 8901064, 'AT', '1_Age60+', 'AZ', 2259262)\n",
            "(5, '2020-W53', 0, None, 0, 0, 0, 'AT', 8901064, 'AT', '1_Age60+', 'MOD', 2259262)\n",
            "(6, '2020-W53', 0, None, 0, 0, 0, 'AT', 8901064, 'AT', '1_Age<60', 'MOD', 5099181)\n",
            "(7, '2020-W53', 0, None, 0, 0, 0, 'AT', 8901064, 'AT', '1_Age<60', 'UNK', 5099181)\n",
            "(8, '2020-W53', 2372, None, 1, 0, 61425, 'AT', 8901064, 'AT', '1_Age<60', 'COM', 5099181)\n",
            "(9, '2020-W53', 0, None, 0, 0, 0, 'AT', 8901064, 'AT', '1_Age<60', 'JANSS', 5099181)\n",
            "(10, '2020-W53', 0, None, 0, 0, 0, 'AT', 8901064, 'AT', '1_Age<60', 'AZ', 5099181)\n"
          ]
        }
      ]
    },
    {
      "cell_type": "markdown",
      "metadata": {
        "id": "WWna1kg1U9i1"
      },
      "source": [
        "La columna year_week_ISO ha de tenir el format **yyyy**-W**xx** on yyyy és l'any i xx la setmana. Per assegurar que no es pugui entrar dades en aquest camp amb un format incorrecte, podem implementar un TRIGGER. Cal crear triggers separats per UPDATE i per INSERT. Per no repetir codi, el posem en una PROCEDURE que cridem des de cada trigger."
      ]
    },
    {
      "cell_type": "code",
      "metadata": {
        "id": "FDXnKbaloDkz"
      },
      "source": [
        "# Triggers to validate the date format (yyyy-Wxx where yyyy=year and xx=week number)\n",
        "# before inserting or updating a row\n",
        "\n",
        "trigger_query=\"\"\"\n",
        "DROP PROCEDURE IF EXISTS validate_date;\n",
        "DROP TRIGGER IF EXISTS trig_insert;\n",
        "DROP TRIGGER IF EXISTS trig_update;\n",
        "\n",
        "CREATE PROCEDURE validate_date(year_week_ISO CHAR(8))\n",
        "BEGIN \n",
        "IF (year_week_ISO REGEXP '^[0-9]{4}-W[0-9]{2}$' ) = 0 THEN \n",
        "  SIGNAL SQLSTATE '12345'\n",
        "     SET MESSAGE_TEXT = 'Non-valid year_week_ISO value. The correct format should be yyyy-Wxx where yyyy=4-digit year and xx=2-digit week number !!!';\n",
        "END IF;\n",
        "END;\n",
        "\n",
        "CREATE TRIGGER trig_insert BEFORE INSERT ON vaccinations\n",
        "FOR EACH ROW \n",
        "BEGIN \n",
        "  CALL validate_date(NEW.year_week_ISO);\n",
        "END;\n",
        "\n",
        "CREATE TRIGGER trig_update BEFORE UPDATE ON vaccinations\n",
        "FOR EACH ROW \n",
        "BEGIN \n",
        "  CALL validate_date(NEW.year_week_ISO);\n",
        "END;\n",
        "\"\"\"\n",
        "\n",
        "with mysql.connect(**config) as connection:\n",
        "  with connection.cursor() as c:  \n",
        "    c.execute(trigger_query, multi=True)  "
      ],
      "execution_count": 18,
      "outputs": []
    },
    {
      "cell_type": "code",
      "metadata": {
        "colab": {
          "base_uri": "https://localhost:8080/"
        },
        "id": "vCC-KKrfgpDE",
        "outputId": "192e107d-2537-424c-b367-182e082eff0f"
      },
      "source": [
        "# We check that the triggers have been created on the database\n",
        "with mysql.connect(**config) as connection:\n",
        "  with connection.cursor() as c:  \n",
        "    c.execute('SHOW TRIGGERS LIKE \"vaccinations\"')\n",
        "    for i in c.fetchall(): print(i)"
      ],
      "execution_count": 19,
      "outputs": [
        {
          "output_type": "stream",
          "name": "stdout",
          "text": [
            "('trig_insert', 'INSERT', 'vaccinations', 'BEGIN \\n  CALL validate_date(NEW.year_week_ISO);\\nEND', 'BEFORE', datetime.datetime(2021, 10, 6, 12, 22, 7, 230000), 'ONLY_FULL_GROUP_BY,STRICT_TRANS_TABLES,NO_ZERO_IN_DATE,NO_ZERO_DATE,ERROR_FOR_DIVISION_BY_ZERO,NO_AUTO_CREATE_USER,NO_ENGINE_SUBSTITUTION', 'roger@localhost', 'utf8mb4', 'utf8mb4_general_ci', 'latin1_swedish_ci')\n",
            "('trig_update', 'UPDATE', 'vaccinations', 'BEGIN \\n  CALL validate_date(NEW.year_week_ISO);\\nEND', 'BEFORE', datetime.datetime(2021, 10, 6, 12, 22, 7, 240000), 'ONLY_FULL_GROUP_BY,STRICT_TRANS_TABLES,NO_ZERO_IN_DATE,NO_ZERO_DATE,ERROR_FOR_DIVISION_BY_ZERO,NO_AUTO_CREATE_USER,NO_ENGINE_SUBSTITUTION', 'roger@localhost', 'utf8mb4', 'utf8mb4_general_ci', 'latin1_swedish_ci')\n"
          ]
        }
      ]
    },
    {
      "cell_type": "code",
      "metadata": {
        "colab": {
          "base_uri": "https://localhost:8080/"
        },
        "id": "DPfoCOCBaKtG",
        "outputId": "6632cc9d-23f3-4d21-d1f6-f541d57e70fe"
      },
      "source": [
        "# We test an invalid year_week_ISO value to check that the triggers are working\n",
        "query=\"\"\"\n",
        "INSERT INTO vaccinations (year_week_ISO, first_dose, first_dose_refused, second_dose, unknown_dose, number_doses_received, region, population, reporting_country, target_group, vaccine_id, denominator) \n",
        "VALUES ('aa33-W33', 1, 1, 1, 1, 1, 'AT', 1, 'AT', 'ALL', 'AZ', 1)\n",
        "\"\"\"\n",
        "try:\n",
        "  with mysql.connect(**config) as connection:\n",
        "    with connection.cursor() as c:  \n",
        "      c.execute(query)\n",
        "except mysql.Error as e:\n",
        "    print(e)"
      ],
      "execution_count": 20,
      "outputs": [
        {
          "output_type": "stream",
          "name": "stdout",
          "text": [
            "1644 (12345): Non-valid year_week_ISO value. The correct format should be yyyy-Wxx where yyyy=4-digit year and xx=2-digit week number !!!\n"
          ]
        }
      ]
    },
    {
      "cell_type": "markdown",
      "metadata": {
        "id": "K82U_zDTuSnI"
      },
      "source": [
        "### Creació de la taula *vaccines*\n",
        "Aquesta taula conté informació sobre les vacunes contra la covid-19 aprovades a Europa incloent el nom, fabricant i tipus de vacuna."
      ]
    },
    {
      "cell_type": "code",
      "metadata": {
        "id": "_xcXpVTcFQvW"
      },
      "source": [
        "# We create another table called \"vaccines\" with the information about each vaccine (code, name, manufacturer, type)\n",
        "# Source: https://covid19.trackvaccines.org/vaccines/approved/\n",
        "\n",
        "create_table_vaccines_query = \"\"\"\n",
        "CREATE TABLE vaccines (\n",
        "    vaccine_id VARCHAR(10) UNIQUE NOT NULL,\n",
        "    name VARCHAR(20),\n",
        "    manufacturer VARCHAR(30),\n",
        "    type ENUM('Protein Subunit', 'Virus-like Particles', 'DNA-based', 'RNA-based', 'Non Replicating Viral Vector', 'Replicating Viral Vector', 'Inactivated', 'Live-Attenuated', 'Unknown'),\n",
        "    PRIMARY KEY (vaccine_id)\n",
        ");\n",
        "\"\"\"\n",
        "\n",
        "insert_vaccines_query = \"INSERT INTO vaccines (vaccine_id, name, manufacturer, type) VALUES (%s, %s, %s, %s)\"\n",
        "\n",
        "vaccines_values = [\n",
        "  ('AZ', 'Vaxzevria', 'Oxford/AstraZeneca', 'Non Replicating Viral Vector'),\n",
        "  ('BECNBG', 'BBIBP-CorV', 'Beijing CNBG', 'Inactivated'),\n",
        "  ('BHACOV', 'Covaxin', 'Bharat Biotech', 'Inactivated'),\n",
        "  ('COM', 'Comirnaty', 'Pfizer/BioNTech', 'RNA-based'),\n",
        "  ('JANSS', 'Ad26.COV 2.5', 'Janssen', 'Non Replicating Viral Vector'),\n",
        "  ('HAYATVAC', 'Hayat Vax', 'Sinopharm', 'Inactivated'),\n",
        "  ('MOD', 'mRNA-1273', 'Moderna', 'RNA-based'),\n",
        "  ('QAZVAQ', 'QazCovid-In', 'Kazakhstan RIBSP', 'Inactivated'),\n",
        "  ('SIICOV', 'Covishield', 'Serum Institute of India', 'Non Replicating Viral Vector'),\n",
        "  ('SIN', 'CoronaVac', 'Sinovac', 'Inactivated'),\n",
        "  ('SPU', 'Sputnik V', 'Gamaleya', 'Non Replicating Viral Vector'),\n",
        "  ('SRCVB', 'EpiVacCorona', 'SRCVB', 'Protein Subunit'),\n",
        "  ('WUCNBG', 'Inactivated', 'Wuhan CNBG', 'Inactivated'),\n",
        "  ('UNK', 'Unknown', 'Unknown', 'Unknown'),\n",
        "  ('ZFUZ', 'Sino-Uzbek', 'ZF-UZVAC', 'Inactivated')\n",
        "]\n",
        "\n",
        "try:\n",
        "\n",
        "  with mysql.connect(**config) as connection:\n",
        "    with connection.cursor() as c:\n",
        "      c.execute(\"DROP TABLE IF EXISTS vaccines\")  # If the table already exists, we delete it\n",
        "      c.execute(create_table_vaccines_query)\n",
        "      c.executemany(insert_vaccines_query, vaccines_values)\n",
        "\n",
        "except mysql.Error as e:\n",
        "    print(e)\n"
      ],
      "execution_count": 21,
      "outputs": []
    },
    {
      "cell_type": "code",
      "metadata": {
        "colab": {
          "base_uri": "https://localhost:8080/"
        },
        "id": "98yJ9haOwqCi",
        "outputId": "cc7cdf70-da0c-47e7-9804-7f3adfcadd5e"
      },
      "source": [
        "# Check that data has correctly been loaded into the \"vaccines\" table\n",
        "\n",
        "with mysql.connect(**config) as connection:\n",
        "\n",
        "  with connection.cursor() as c:\n",
        "\n",
        "    c.execute('SELECT * FROM vaccines')\n",
        "    data = c.fetchall()\n",
        "    print(\"Column names: \", c.column_names, \"\\n\")\n",
        "    for row in data: print(row)\n"
      ],
      "execution_count": 22,
      "outputs": [
        {
          "output_type": "stream",
          "name": "stdout",
          "text": [
            "Column names:  ('vaccine_id', 'name', 'manufacturer', 'type') \n",
            "\n",
            "('AZ', 'Vaxzevria', 'Oxford/AstraZeneca', 'Non Replicating Viral Vector')\n",
            "('BECNBG', 'BBIBP-CorV', 'Beijing CNBG', 'Inactivated')\n",
            "('BHACOV', 'Covaxin', 'Bharat Biotech', 'Inactivated')\n",
            "('COM', 'Comirnaty', 'Pfizer/BioNTech', 'RNA-based')\n",
            "('HAYATVAC', 'Hayat Vax', 'Sinopharm', 'Inactivated')\n",
            "('JANSS', 'Ad26.COV 2.5', 'Janssen', 'Non Replicating Viral Vector')\n",
            "('MOD', 'mRNA-1273', 'Moderna', 'RNA-based')\n",
            "('QAZVAQ', 'QazCovid-In', 'Kazakhstan RIBSP', 'Inactivated')\n",
            "('SIICOV', 'Covishield', 'Serum Institute of India', 'Non Replicating Viral Vector')\n",
            "('SIN', 'CoronaVac', 'Sinovac', 'Inactivated')\n",
            "('SPU', 'Sputnik V', 'Gamaleya', 'Non Replicating Viral Vector')\n",
            "('SRCVB', 'EpiVacCorona', 'SRCVB', 'Protein Subunit')\n",
            "('UNK', 'Unknown', 'Unknown', 'Unknown')\n",
            "('WUCNBG', 'Inactivated', 'Wuhan CNBG', 'Inactivated')\n",
            "('ZFUZ', 'Sino-Uzbek', 'ZF-UZVAC', 'Inactivated')\n"
          ]
        }
      ]
    },
    {
      "cell_type": "markdown",
      "metadata": {
        "id": "ycFJlZWMx2R8"
      },
      "source": [
        "## Exercici 2"
      ]
    },
    {
      "cell_type": "markdown",
      "metadata": {
        "id": "gP27jVuQx6mD"
      },
      "source": [
        "Mostra que pots carregar algunes consultes senzilles a un Pandas Dataframe"
      ]
    },
    {
      "cell_type": "code",
      "metadata": {
        "id": "n9mPUEPS1J9L"
      },
      "source": [
        "# Connection instance\n",
        "conn = mysql.connect(**config)"
      ],
      "execution_count": 23,
      "outputs": []
    },
    {
      "cell_type": "markdown",
      "metadata": {
        "id": "0TtbeQTa5eR6"
      },
      "source": [
        "**- Consulta 1:** nombre de dosis setmanals de tots els tipus de vacunes contra la covid-19 administrades a Espanya"
      ]
    },
    {
      "cell_type": "code",
      "metadata": {
        "colab": {
          "base_uri": "https://localhost:8080/",
          "height": 376
        },
        "id": "JNMkaCqo_YVr",
        "outputId": "d8a190ee-7f3a-4c1f-c51b-e455a628b531"
      },
      "source": [
        "query1 = \"\"\"\n",
        "SELECT year_week_ISO AS week, manufacturer AS vaccine, SUM(first_dose) AS total_first_dose, \n",
        "      SUM(first_dose_refused) AS total_first_dose_refused, \n",
        "      SUM(second_dose) AS total_second_dose,\n",
        "      MAX(population) AS population \n",
        "FROM vaccinations LEFT JOIN vaccines USING (vaccine_id)\n",
        "GROUP BY vaccine_id, reporting_country, year_week_ISO, target_group\n",
        "HAVING reporting_country='ES' AND target_group='ALL'\n",
        "ORDER BY year_week_ISO, vaccine_id;\n",
        "\"\"\"\n",
        "df1 = pd.read_sql(query1, conn)\n",
        "print(f\"Number of weekly vaccine doses in Spain - Total #rows: {df1.size}\")\n",
        "df1.head(10)"
      ],
      "execution_count": 24,
      "outputs": [
        {
          "output_type": "stream",
          "name": "stdout",
          "text": [
            "Number of weekly vaccine doses in Spain - Total #rows: 888\n"
          ]
        },
        {
          "output_type": "execute_result",
          "data": {
            "text/html": [
              "<div>\n",
              "<style scoped>\n",
              "    .dataframe tbody tr th:only-of-type {\n",
              "        vertical-align: middle;\n",
              "    }\n",
              "\n",
              "    .dataframe tbody tr th {\n",
              "        vertical-align: top;\n",
              "    }\n",
              "\n",
              "    .dataframe thead th {\n",
              "        text-align: right;\n",
              "    }\n",
              "</style>\n",
              "<table border=\"1\" class=\"dataframe\">\n",
              "  <thead>\n",
              "    <tr style=\"text-align: right;\">\n",
              "      <th></th>\n",
              "      <th>week</th>\n",
              "      <th>vaccine</th>\n",
              "      <th>total_first_dose</th>\n",
              "      <th>total_first_dose_refused</th>\n",
              "      <th>total_second_dose</th>\n",
              "      <th>population</th>\n",
              "    </tr>\n",
              "  </thead>\n",
              "  <tbody>\n",
              "    <tr>\n",
              "      <th>0</th>\n",
              "      <td>2020-W53</td>\n",
              "      <td>Oxford/AstraZeneca</td>\n",
              "      <td>0.0</td>\n",
              "      <td>0.0</td>\n",
              "      <td>0.0</td>\n",
              "      <td>47332614</td>\n",
              "    </tr>\n",
              "    <tr>\n",
              "      <th>1</th>\n",
              "      <td>2020-W53</td>\n",
              "      <td>Pfizer/BioNTech</td>\n",
              "      <td>96347.0</td>\n",
              "      <td>528.0</td>\n",
              "      <td>0.0</td>\n",
              "      <td>47332614</td>\n",
              "    </tr>\n",
              "    <tr>\n",
              "      <th>2</th>\n",
              "      <td>2020-W53</td>\n",
              "      <td>Janssen</td>\n",
              "      <td>0.0</td>\n",
              "      <td>0.0</td>\n",
              "      <td>0.0</td>\n",
              "      <td>47332614</td>\n",
              "    </tr>\n",
              "    <tr>\n",
              "      <th>3</th>\n",
              "      <td>2020-W53</td>\n",
              "      <td>Moderna</td>\n",
              "      <td>0.0</td>\n",
              "      <td>0.0</td>\n",
              "      <td>0.0</td>\n",
              "      <td>47332614</td>\n",
              "    </tr>\n",
              "    <tr>\n",
              "      <th>4</th>\n",
              "      <td>2021-W01</td>\n",
              "      <td>Oxford/AstraZeneca</td>\n",
              "      <td>0.0</td>\n",
              "      <td>0.0</td>\n",
              "      <td>0.0</td>\n",
              "      <td>47332614</td>\n",
              "    </tr>\n",
              "    <tr>\n",
              "      <th>5</th>\n",
              "      <td>2021-W01</td>\n",
              "      <td>Pfizer/BioNTech</td>\n",
              "      <td>323223.0</td>\n",
              "      <td>1156.0</td>\n",
              "      <td>0.0</td>\n",
              "      <td>47332614</td>\n",
              "    </tr>\n",
              "    <tr>\n",
              "      <th>6</th>\n",
              "      <td>2021-W01</td>\n",
              "      <td>Janssen</td>\n",
              "      <td>0.0</td>\n",
              "      <td>0.0</td>\n",
              "      <td>0.0</td>\n",
              "      <td>47332614</td>\n",
              "    </tr>\n",
              "    <tr>\n",
              "      <th>7</th>\n",
              "      <td>2021-W01</td>\n",
              "      <td>Moderna</td>\n",
              "      <td>0.0</td>\n",
              "      <td>0.0</td>\n",
              "      <td>0.0</td>\n",
              "      <td>47332614</td>\n",
              "    </tr>\n",
              "    <tr>\n",
              "      <th>8</th>\n",
              "      <td>2021-W02</td>\n",
              "      <td>Oxford/AstraZeneca</td>\n",
              "      <td>0.0</td>\n",
              "      <td>0.0</td>\n",
              "      <td>0.0</td>\n",
              "      <td>47332614</td>\n",
              "    </tr>\n",
              "    <tr>\n",
              "      <th>9</th>\n",
              "      <td>2021-W02</td>\n",
              "      <td>Pfizer/BioNTech</td>\n",
              "      <td>498851.0</td>\n",
              "      <td>1099.0</td>\n",
              "      <td>2035.0</td>\n",
              "      <td>47332614</td>\n",
              "    </tr>\n",
              "  </tbody>\n",
              "</table>\n",
              "</div>"
            ],
            "text/plain": [
              "       week             vaccine  ...  total_second_dose  population\n",
              "0  2020-W53  Oxford/AstraZeneca  ...                0.0    47332614\n",
              "1  2020-W53     Pfizer/BioNTech  ...                0.0    47332614\n",
              "2  2020-W53             Janssen  ...                0.0    47332614\n",
              "3  2020-W53             Moderna  ...                0.0    47332614\n",
              "4  2021-W01  Oxford/AstraZeneca  ...                0.0    47332614\n",
              "5  2021-W01     Pfizer/BioNTech  ...                0.0    47332614\n",
              "6  2021-W01             Janssen  ...                0.0    47332614\n",
              "7  2021-W01             Moderna  ...                0.0    47332614\n",
              "8  2021-W02  Oxford/AstraZeneca  ...                0.0    47332614\n",
              "9  2021-W02     Pfizer/BioNTech  ...             2035.0    47332614\n",
              "\n",
              "[10 rows x 6 columns]"
            ]
          },
          "metadata": {},
          "execution_count": 24
        }
      ]
    },
    {
      "cell_type": "markdown",
      "metadata": {
        "id": "mvaNzCUTEJR6"
      },
      "source": [
        "**- Consulta 2:** nombre de dosis setmanals de vacuna Oxford/Astrazeneca (AZ) administrades a Espanya a gent major i menor de 60 anys"
      ]
    },
    {
      "cell_type": "code",
      "metadata": {
        "colab": {
          "base_uri": "https://localhost:8080/",
          "height": 376
        },
        "id": "yYNg1VDtLQ6g",
        "outputId": "780c0866-7094-44df-f330-5a60c4d2d204"
      },
      "source": [
        "query2 = \"\"\"\n",
        "SELECT year_week_ISO as week,\n",
        "       SUM(CASE WHEN target_group IN ('Age0_4','Age5_9', 'Age10_14', 'Age15_17', 'Age18_24', 'Age25_49', 'Age50_59') THEN first_dose ELSE 0 END) AS less60_first_dose,\n",
        "       SUM(CASE WHEN target_group IN ('Age60_69', 'Age70_79', 'Age80+') THEN first_dose ELSE 0 END) AS more60_first_dose,\n",
        "       SUM(CASE WHEN target_group IN ('Age0_4','Age5_9', 'Age10_14', 'Age15_17', 'Age18_24', 'Age25_49', 'Age50_59') THEN second_dose ELSE 0 END) AS less60_second_dose,\n",
        "       SUM(CASE WHEN target_group IN ('Age60_69', 'Age70_79', 'Age80+') THEN second_dose ELSE 0 END) AS more60_second_dose\n",
        "FROM vaccinations\n",
        "GROUP BY year_week_ISO, vaccine_id, reporting_country\n",
        "HAVING vaccine_id='AZ' AND reporting_country='ES' \n",
        "ORDER BY year_week_ISO, vaccine_id;\n",
        "\"\"\"\n",
        "df2 = pd.read_sql(query2, conn)\n",
        "print(f\"Number of weekly Astrazeneca vaccine doses in Spain for older and younger than 60yo - Total #rows: {df2.size}\")\n",
        "df2.head(10)"
      ],
      "execution_count": 25,
      "outputs": [
        {
          "output_type": "stream",
          "name": "stdout",
          "text": [
            "Number of weekly Astrazeneca vaccine doses in Spain for older and younger than 60yo - Total #rows: 185\n"
          ]
        },
        {
          "output_type": "execute_result",
          "data": {
            "text/html": [
              "<div>\n",
              "<style scoped>\n",
              "    .dataframe tbody tr th:only-of-type {\n",
              "        vertical-align: middle;\n",
              "    }\n",
              "\n",
              "    .dataframe tbody tr th {\n",
              "        vertical-align: top;\n",
              "    }\n",
              "\n",
              "    .dataframe thead th {\n",
              "        text-align: right;\n",
              "    }\n",
              "</style>\n",
              "<table border=\"1\" class=\"dataframe\">\n",
              "  <thead>\n",
              "    <tr style=\"text-align: right;\">\n",
              "      <th></th>\n",
              "      <th>week</th>\n",
              "      <th>less60_first_dose</th>\n",
              "      <th>more60_first_dose</th>\n",
              "      <th>less60_second_dose</th>\n",
              "      <th>more60_second_dose</th>\n",
              "    </tr>\n",
              "  </thead>\n",
              "  <tbody>\n",
              "    <tr>\n",
              "      <th>0</th>\n",
              "      <td>2020-W53</td>\n",
              "      <td>0.0</td>\n",
              "      <td>0.0</td>\n",
              "      <td>0.0</td>\n",
              "      <td>0.0</td>\n",
              "    </tr>\n",
              "    <tr>\n",
              "      <th>1</th>\n",
              "      <td>2021-W01</td>\n",
              "      <td>0.0</td>\n",
              "      <td>0.0</td>\n",
              "      <td>0.0</td>\n",
              "      <td>0.0</td>\n",
              "    </tr>\n",
              "    <tr>\n",
              "      <th>2</th>\n",
              "      <td>2021-W02</td>\n",
              "      <td>0.0</td>\n",
              "      <td>0.0</td>\n",
              "      <td>0.0</td>\n",
              "      <td>0.0</td>\n",
              "    </tr>\n",
              "    <tr>\n",
              "      <th>3</th>\n",
              "      <td>2021-W03</td>\n",
              "      <td>0.0</td>\n",
              "      <td>0.0</td>\n",
              "      <td>0.0</td>\n",
              "      <td>0.0</td>\n",
              "    </tr>\n",
              "    <tr>\n",
              "      <th>4</th>\n",
              "      <td>2021-W04</td>\n",
              "      <td>0.0</td>\n",
              "      <td>0.0</td>\n",
              "      <td>0.0</td>\n",
              "      <td>0.0</td>\n",
              "    </tr>\n",
              "    <tr>\n",
              "      <th>5</th>\n",
              "      <td>2021-W05</td>\n",
              "      <td>0.0</td>\n",
              "      <td>0.0</td>\n",
              "      <td>0.0</td>\n",
              "      <td>0.0</td>\n",
              "    </tr>\n",
              "    <tr>\n",
              "      <th>6</th>\n",
              "      <td>2021-W06</td>\n",
              "      <td>34837.0</td>\n",
              "      <td>8.0</td>\n",
              "      <td>0.0</td>\n",
              "      <td>0.0</td>\n",
              "    </tr>\n",
              "    <tr>\n",
              "      <th>7</th>\n",
              "      <td>2021-W07</td>\n",
              "      <td>98476.0</td>\n",
              "      <td>30.0</td>\n",
              "      <td>0.0</td>\n",
              "      <td>0.0</td>\n",
              "    </tr>\n",
              "    <tr>\n",
              "      <th>8</th>\n",
              "      <td>2021-W08</td>\n",
              "      <td>246500.0</td>\n",
              "      <td>63.0</td>\n",
              "      <td>0.0</td>\n",
              "      <td>0.0</td>\n",
              "    </tr>\n",
              "    <tr>\n",
              "      <th>9</th>\n",
              "      <td>2021-W09</td>\n",
              "      <td>296000.0</td>\n",
              "      <td>115.0</td>\n",
              "      <td>3.0</td>\n",
              "      <td>0.0</td>\n",
              "    </tr>\n",
              "  </tbody>\n",
              "</table>\n",
              "</div>"
            ],
            "text/plain": [
              "       week  less60_first_dose  ...  less60_second_dose  more60_second_dose\n",
              "0  2020-W53                0.0  ...                 0.0                 0.0\n",
              "1  2021-W01                0.0  ...                 0.0                 0.0\n",
              "2  2021-W02                0.0  ...                 0.0                 0.0\n",
              "3  2021-W03                0.0  ...                 0.0                 0.0\n",
              "4  2021-W04                0.0  ...                 0.0                 0.0\n",
              "5  2021-W05                0.0  ...                 0.0                 0.0\n",
              "6  2021-W06            34837.0  ...                 0.0                 0.0\n",
              "7  2021-W07            98476.0  ...                 0.0                 0.0\n",
              "8  2021-W08           246500.0  ...                 0.0                 0.0\n",
              "9  2021-W09           296000.0  ...                 3.0                 0.0\n",
              "\n",
              "[10 rows x 5 columns]"
            ]
          },
          "metadata": {},
          "execution_count": 25
        }
      ]
    },
    {
      "cell_type": "markdown",
      "metadata": {
        "id": "jEjEHRAKj_ii"
      },
      "source": [
        "**- Consulta 3:** nombre de dosis totals per pais i per tipus (RNA, etc)"
      ]
    },
    {
      "cell_type": "code",
      "metadata": {
        "colab": {
          "base_uri": "https://localhost:8080/",
          "height": 376
        },
        "id": "Q4_1njBe2whL",
        "outputId": "60507d44-e5e2-49da-cdf7-da0b1e25ce1f"
      },
      "source": [
        "query3 = \"\"\"\n",
        "SELECT vaccinations.reporting_country,vaccines.type, SUM(vaccinations.first_dose+vaccinations.second_dose) AS total_doses\n",
        "FROM vaccinations LEFT JOIN vaccines USING (vaccine_id)\n",
        "GROUP BY vaccines.type, vaccinations.target_group, vaccinations.reporting_country\n",
        "HAVING vaccinations.target_group='ALL'\n",
        "ORDER BY vaccinations.reporting_country, vaccines.type;\n",
        "\"\"\"\n",
        "df3 = pd.read_sql(query3, conn)\n",
        "print(f\"Number of vaccine doses in Europe by type - Total #rows: {df3.size}\")\n",
        "df3.head(10)\n"
      ],
      "execution_count": 26,
      "outputs": [
        {
          "output_type": "stream",
          "name": "stdout",
          "text": [
            "Number of vaccine doses in Europe by type - Total #rows: 210\n"
          ]
        },
        {
          "output_type": "execute_result",
          "data": {
            "text/html": [
              "<div>\n",
              "<style scoped>\n",
              "    .dataframe tbody tr th:only-of-type {\n",
              "        vertical-align: middle;\n",
              "    }\n",
              "\n",
              "    .dataframe tbody tr th {\n",
              "        vertical-align: top;\n",
              "    }\n",
              "\n",
              "    .dataframe thead th {\n",
              "        text-align: right;\n",
              "    }\n",
              "</style>\n",
              "<table border=\"1\" class=\"dataframe\">\n",
              "  <thead>\n",
              "    <tr style=\"text-align: right;\">\n",
              "      <th></th>\n",
              "      <th>reporting_country</th>\n",
              "      <th>type</th>\n",
              "      <th>total_doses</th>\n",
              "    </tr>\n",
              "  </thead>\n",
              "  <tbody>\n",
              "    <tr>\n",
              "      <th>0</th>\n",
              "      <td>AT</td>\n",
              "      <td>RNA-based</td>\n",
              "      <td>8396988.0</td>\n",
              "    </tr>\n",
              "    <tr>\n",
              "      <th>1</th>\n",
              "      <td>AT</td>\n",
              "      <td>Non Replicating Viral Vector</td>\n",
              "      <td>1875867.0</td>\n",
              "    </tr>\n",
              "    <tr>\n",
              "      <th>2</th>\n",
              "      <td>AT</td>\n",
              "      <td>Unknown</td>\n",
              "      <td>1005.0</td>\n",
              "    </tr>\n",
              "    <tr>\n",
              "      <th>3</th>\n",
              "      <td>BE</td>\n",
              "      <td>RNA-based</td>\n",
              "      <td>12105362.0</td>\n",
              "    </tr>\n",
              "    <tr>\n",
              "      <th>4</th>\n",
              "      <td>BE</td>\n",
              "      <td>Non Replicating Viral Vector</td>\n",
              "      <td>3187328.0</td>\n",
              "    </tr>\n",
              "    <tr>\n",
              "      <th>5</th>\n",
              "      <td>BG</td>\n",
              "      <td>RNA-based</td>\n",
              "      <td>1753437.0</td>\n",
              "    </tr>\n",
              "    <tr>\n",
              "      <th>6</th>\n",
              "      <td>BG</td>\n",
              "      <td>Non Replicating Viral Vector</td>\n",
              "      <td>642969.0</td>\n",
              "    </tr>\n",
              "    <tr>\n",
              "      <th>7</th>\n",
              "      <td>BG</td>\n",
              "      <td>Unknown</td>\n",
              "      <td>5854.0</td>\n",
              "    </tr>\n",
              "    <tr>\n",
              "      <th>8</th>\n",
              "      <td>CY</td>\n",
              "      <td>RNA-based</td>\n",
              "      <td>818821.0</td>\n",
              "    </tr>\n",
              "    <tr>\n",
              "      <th>9</th>\n",
              "      <td>CY</td>\n",
              "      <td>Non Replicating Viral Vector</td>\n",
              "      <td>272597.0</td>\n",
              "    </tr>\n",
              "  </tbody>\n",
              "</table>\n",
              "</div>"
            ],
            "text/plain": [
              "  reporting_country                          type  total_doses\n",
              "0                AT                     RNA-based    8396988.0\n",
              "1                AT  Non Replicating Viral Vector    1875867.0\n",
              "2                AT                       Unknown       1005.0\n",
              "3                BE                     RNA-based   12105362.0\n",
              "4                BE  Non Replicating Viral Vector    3187328.0\n",
              "5                BG                     RNA-based    1753437.0\n",
              "6                BG  Non Replicating Viral Vector     642969.0\n",
              "7                BG                       Unknown       5854.0\n",
              "8                CY                     RNA-based     818821.0\n",
              "9                CY  Non Replicating Viral Vector     272597.0"
            ]
          },
          "metadata": {},
          "execution_count": 26
        }
      ]
    },
    {
      "cell_type": "markdown",
      "metadata": {
        "id": "tCmbJummx9oH"
      },
      "source": [
        "## Exercici 3"
      ]
    },
    {
      "cell_type": "markdown",
      "metadata": {
        "id": "9FYPpNseyA3n"
      },
      "source": [
        "Genera algun gràfic que resumeixi les dades."
      ]
    },
    {
      "cell_type": "markdown",
      "metadata": {
        "id": "9ywWQKNo79kP"
      },
      "source": [
        "### Evolució de la vacunació contra la covid-19 a Espanya, en funció del model de vacuna\n",
        "\n",
        "Podem observar:\n",
        "- que la vacuna que més s'ha posat és la de Pfizer\n",
        "- que la primera vacuna que es va començar a posar va sér la de Pfizer també\n",
        "- que per la Pfizer i Moderna s'ha complert bastant exactament el temps recomanat (3 i 4 setmanes respectivament ) entre la primera dosis i la segons, si comparem els pics de les corbes. En canvi per la Astrazeneca podem veure com es va retrasar la segona dosis (concretament per als majors de 60 anys, encara que no es veu a aquest gràfic). La Jansenn només té una dosis. \n",
        "- que les vacunacions han baixat dràsticament ne les darreres setmanes."
      ]
    },
    {
      "cell_type": "code",
      "metadata": {
        "colab": {
          "base_uri": "https://localhost:8080/",
          "height": 581
        },
        "id": "Q3tDBMECoL_4",
        "outputId": "c0130113-07a9-475b-cc9a-9b63b60dec64"
      },
      "source": [
        "data1 = df1.drop(columns=['population', 'total_first_dose_refused']).melt(id_vars=['week','vaccine'], var_name='dose_type', value_name='number_of_doses' )\n",
        "\n",
        "plt.figure(figsize=(25, 25));\n",
        "\n",
        "g = sns.relplot(data=data1, kind='line', x='week', y='number_of_doses', col='vaccine', col_wrap=2, style='dose_type', hue='vaccine', aspect=2 );\n",
        "\n",
        "# Rotate x-labels\n",
        "for ax in g.axes.ravel():\n",
        "    ax.set_xticklabels(ax.get_xticklabels(), rotation=45)\n",
        "\n",
        "# Add super-title\n",
        "g.fig.subplots_adjust(top=.9);    \n",
        "g.fig.suptitle('Number of weekly covid-19 vaccinations in Spain');\n"
      ],
      "execution_count": 29,
      "outputs": [
        {
          "output_type": "display_data",
          "data": {
            "text/plain": [
              "<Figure size 1800x1800 with 0 Axes>"
            ]
          },
          "metadata": {}
        },
        {
          "output_type": "display_data",
          "data": {
            "image/png": "[encoded data removed]",
            "text/plain": [
              "<Figure size 1576.38x720 with 4 Axes>"
            ]
          },
          "metadata": {
            "needs_background": "light"
          }
        }
      ]
    },
    {
      "cell_type": "markdown",
      "metadata": {
        "id": "Hz2LxZb2I2GK"
      },
      "source": [
        "### Evolució de la vacuna Astrazeneca a Espanya\n",
        "\n",
        "Durant la pandèmia arrel d'uns pocs casos de coaguls en gent vacunada amb la primera dosis de Astrazeneca, el govern va retardar la segona dosis i finalment va decidir als menos de 60 anys que havien rebut la primera dosis d'Astrazeneca se'ls hi posaria segona dosis de Pfizer contravinent la decisió de la EMA que no veia cap problema en tornar a posar Astrazeneca. Deixava la porta oberta a posar la de Astrazeneca sempre que hi hagués un consentiment signat per l'usuari conforme coneixia els riscos. Finalment sabem que la majoria d'usuaris van optar per posar-se la segona d'Astrazeneca. En el gràfic podem veure com la diferència entre les corves de primera i segona dosis acumulades és similar en la població menor i major de 60 anys.\n",
        "\n",
        "Cal recordar que les dues corves (primera i segona dosis) no arriben al mateix valor per diversos motius. Per exemple, algú que s'hagi contagiat de covid després de la primera dosis ja no se li posa la segona."
      ]
    },
    {
      "cell_type": "code",
      "metadata": {
        "colab": {
          "base_uri": "https://localhost:8080/",
          "height": 423
        },
        "id": "tmysGa_fGpnK",
        "outputId": "a5c7a4b7-5143-4ab4-922a-a8775e6e1700"
      },
      "source": [
        "df2['cumulative_less60_first_dose'] = df2.less60_first_dose.cumsum()\n",
        "df2['cumulative_more60_first_dose'] = df2.more60_first_dose.cumsum()\n",
        "df2['cumulative_less60_second_dose'] = df2.less60_second_dose.cumsum()\n",
        "df2['cumulative_more60_second_dose'] = df2.more60_second_dose.cumsum()\n",
        "\n",
        "data2 = df2.drop(columns=['less60_first_dose','more60_first_dose','less60_second_dose','more60_second_dose']).melt(id_vars=['week'], var_name='age_group-dose', value_name='cumulative_number_of_doses')\n",
        "\n",
        "data2['age_group'] = data2['age_group-dose'].str[11:17]\n",
        "data2['dose_type'] = data2['age_group-dose'].str[18:]\n",
        "\n",
        "plt.figure(figsize=(25, 25));\n",
        "\n",
        "g = sns.relplot(data=data2, kind='line', x='week', y='cumulative_number_of_doses', style='dose_type', hue='age_group', aspect=2 );\n",
        "\n",
        "# Rotate x-labels\n",
        "for ax in g.axes.ravel():\n",
        "    ax.set_xticklabels(ax.get_xticklabels(), rotation=45)\n",
        "\n",
        "# Add super-title\n",
        "g.fig.subplots_adjust(top=.9);    \n",
        "g.fig.suptitle('Cumulative number of vaccinations of Astrazeneca in Spain by age group and dose type');"
      ],
      "execution_count": 30,
      "outputs": [
        {
          "output_type": "display_data",
          "data": {
            "text/plain": [
              "<Figure size 1800x1800 with 0 Axes>"
            ]
          },
          "metadata": {}
        },
        {
          "output_type": "display_data",
          "data": {
            "image/png": "[encoded data removed]",
            "text/plain": [
              "<Figure size 820.375x360 with 1 Axes>"
            ]
          },
          "metadata": {
            "needs_background": "light"
          }
        }
      ]
    },
    {
      "cell_type": "markdown",
      "metadata": {
        "id": "PKvyDHJb0vyn"
      },
      "source": [
        "### Anàlisi de les vacunes utilitzades a Europa segons el tipus de tecnología (inactivada, basada en RNA, etc)\n",
        "\n",
        "Podem obervar que:\n",
        "- els paisos han optat majoritariament per les noves vacunes basades en RNA enfront de les vacunes més tradicionals basades en vector viral o virus inactivat.\n",
        "- hi ha un cert nombre significatiu de dosis que França i Noruega no han especificat de quin tipus són (unknown)."
      ]
    },
    {
      "cell_type": "code",
      "metadata": {
        "id": "uYPbOIpg0vYy"
      },
      "source": [
        "df3['total_country'] = df3.groupby(by=['reporting_country']).total_doses.transform('sum')\n",
        "df3['percentage'] = 100*df3.total_doses/df3.total_country"
      ],
      "execution_count": 31,
      "outputs": []
    },
    {
      "cell_type": "code",
      "metadata": {
        "colab": {
          "base_uri": "https://localhost:8080/",
          "height": 371
        },
        "id": "Nq_qf0hj1JqG",
        "outputId": "5749720f-b6a3-46da-9bc0-ed54945a6a4a"
      },
      "source": [
        "plt.figure(figsize=(25, 45));\n",
        "\n",
        "g = sns.catplot(\n",
        "    data=df3, kind=\"bar\", hue=\"type\",\n",
        "    x=\"reporting_country\", y=\"percentage\", aspect=3\n",
        ")"
      ],
      "execution_count": null,
      "outputs": [
        {
          "output_type": "display_data",
          "data": {
            "text/plain": [
              "<Figure size 1800x3240 with 0 Axes>"
            ]
          },
          "metadata": {}
        },
        {
          "output_type": "display_data",
          "data": {
            "image/png": "[encoded data removed]",
            "text/plain": [
              "<Figure size 1255.25x360 with 1 Axes>"
            ]
          },
          "metadata": {
            "needs_background": "light"
          }
        }
      ]
    }
  ]
}